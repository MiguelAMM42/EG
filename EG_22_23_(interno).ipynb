{
  "nbformat": 4,
  "nbformat_minor": 0,
  "metadata": {
    "colab": {
      "provenance": [],
      "toc_visible": true,
      "include_colab_link": true
    },
    "kernelspec": {
      "name": "python3",
      "display_name": "Python 3"
    },
    "language_info": {
      "name": "python"
    }
  },
  "cells": [
    {
      "cell_type": "markdown",
      "metadata": {
        "id": "view-in-github",
        "colab_type": "text"
      },
      "source": [
        "<a href=\"https://colab.research.google.com/github/MiguelAMM42/EG/blob/main/EG_22_23_(interno).ipynb\" target=\"_parent\"><img src=\"https://colab.research.google.com/assets/colab-badge.svg\" alt=\"Open In Colab\"/></a>"
      ]
    },
    {
      "cell_type": "markdown",
      "source": [
        "#Engenharia Gramatical\n",
        "\n",
        "Ano Letivo 22/23\n",
        "\n",
        "Autor Tiago Baptista"
      ],
      "metadata": {
        "id": "8CIDIqz_Ar4S"
      }
    },
    {
      "cell_type": "markdown",
      "source": [
        "# Aula 2"
      ],
      "metadata": {
        "id": "DqkKXFuZ9ACz"
      }
    },
    {
      "cell_type": "markdown",
      "source": [
        "## Sumário\n",
        "\n",
        "\n",
        "\n",
        "1.   O que é o lark ?\n",
        "2.   Principais características\n",
        "  - construções automáticas\n",
        "  - ferramentas de visualização\n",
        "  - suporte de ebnf\n",
        "4.   lexer em lark\n",
        "5.   Introdução aos transformers\n",
        "\n",
        "## Notas\n",
        "[lark cheatsheet](https://lark-parser.readthedocs.io/en/latest/_static/lark_cheatsheet.pdf)\n",
        "\n",
        "[Documentação](https://lark-parser.readthedocs.io)\n",
        "\n",
        "[lark common](https://github.com/lark-parser/lark/blob/master/lark/grammars/common.lark)\n"
      ],
      "metadata": {
        "id": "o_zLT4OM9Ei_"
      }
    },
    {
      "cell_type": "markdown",
      "source": [
        "### Demo introdução a lark e Tranformers"
      ],
      "metadata": {
        "id": "fiWId7-1AzGS"
      }
    },
    {
      "cell_type": "markdown",
      "source": [
        "####Exercício 1\n",
        "Escreva uma gramática independente de contexto para definir uma lista possivelmente vazia de números inteiros separados por vírgulas.\n",
        "\n",
        "Deve importar o módulo **Lark** para gerar um parser que ao reconhecer uma frase gere a respetiva árvore de parsing.\n",
        "\n",
        "Use a função de *pretty print* do módulo *Lark* para imprimir a árvore construida.\n",
        "\n",
        "Nesta primeira versão não se pretende que faça nenhuma travessia à árvore, \n",
        "mas em contrapartida pretende-se que escreva várias versões da GIC para usar extended-BNF (uso de operadores para descrever repetições) e para usar apenas BNF (uso de recursividade par descrever repetições). \n",
        "\n",
        "\n"
      ],
      "metadata": {
        "id": "giMyXurz6MHJ"
      }
    },
    {
      "cell_type": "code",
      "source": [
        "!pip install lark\n",
        "from lark import Lark,Token\n",
        "from lark.tree import pydot__tree_to_png\n",
        "from lark import Transformer\n",
        "from lark import Discard\n",
        "\n",
        "grammar = '''\n",
        "//Regras Sintaticas\n",
        "start: PE elemento* PD\n",
        "elemento : NUMERO (VIR NUMERO)*\n",
        "//Regras Lexicográficas\n",
        "NUMERO:\"0\"..\"9\"+\n",
        "PE:\"[\"\n",
        "PD:\"]\"\n",
        "VIR:\",\"\n",
        "//Tratamento dos espaços em branco\n",
        "%import common.WS\n",
        "%ignore WS\n",
        "'''\n",
        "\n",
        "grammar1 = '''\n",
        "//Regras Sintaticas\n",
        "start: PE elementos PD\n",
        "elementos : \n",
        "          | elemento (VIR elemento)*\n",
        "elemento : NUMERO \n",
        "//Regras Lexicográficas\n",
        "NUMERO:\"0\"..\"9\"+ // [0-9]+\n",
        "PE:\"[\"\n",
        "PD:\"]\"\n",
        "VIR:\",\"\n",
        "//Tratamento dos espaços em branco\n",
        "%import common.WS\n",
        "%ignore WS\n",
        "'''\n",
        "grammar2 = '''\n",
        "//Regras Sintaticas\n",
        "start: PE elementos PD\n",
        "elementos: elemento VIR elementos\n",
        "        |\n",
        "elemento : NUMERO \n",
        "//Regras Lexicograficas\n",
        "NUMERO:\"0\"..\"9\"+\n",
        "PE:\"[\"\n",
        "PD:\"]\"\n",
        "VIR:\",\"\n",
        "//Tratamento dos espaços em branco\n",
        "%import common.WS\n",
        "%ignore WS\n",
        "'''\n",
        "\n",
        "grammar3 = '''\n",
        "//Regras Sintaticas\n",
        "start: PE elementos PD\n",
        "elementos: elementos VIR elemento\n",
        "        |\n",
        "elemento : NUMERO \n",
        "//Regras Lexicograficas\n",
        "NUMERO:\"0\"..\"9\"+\n",
        "PE:\"[\"\n",
        "PD:\"]\"\n",
        "VIR:\",\"\n",
        "//Tratamento dos espaços em branco\n",
        "%import common.WS\n",
        "%ignore WS\n",
        "'''\n",
        "\n",
        "grammar4 = '''\n",
        "//Regras Sintaticas\n",
        "start: PE ( |elementos) PD\n",
        "elementos: elemento VIR elementos\n",
        "//elementos: elemento VIR elementos\n",
        "         | elemento\n",
        "elemento : NUMERO \n",
        "//Regras Lexicograficas\n",
        "NUMERO:\"0\"..\"9\"+\n",
        "PE:\"[\"\n",
        "PD:\"]\"\n",
        "VIR:\",\"\n",
        "//Tratamento dos espaços em branco\n",
        "%import common.WS\n",
        "%ignore WS\n",
        "'''\n",
        "\n",
        "# soma da lista, encontrar o maior da lista\n",
        "class ExemploTransformer(Transformer):\n",
        "  def start(self, elementos):\n",
        "    print(\"start\")\n",
        "    pass\n",
        "  def elemento(self, elemento):\n",
        "    print(\"elemento\")\n",
        "    print(elemento)\n",
        "    soma = 0\n",
        "    for el in elemento:\n",
        "      soma += el\n",
        "    print(f'O somatório é {soma}')\n",
        "    maximo = max(elemento)\n",
        "    print(f'O máximo é {maximo}')\n",
        "    return elemento\n",
        "    pass\n",
        "  def NUMERO(self,numero):\n",
        "    print(numero)\n",
        "    print(\"numero\")\n",
        "    return(int(numero))\n",
        "  def PE (self, pe):\n",
        "    print(\"par esq \")\n",
        "    print(pe)\n",
        "    return(str(pe))\n",
        "  def PD(self, pd):\n",
        "    print(\"par dir\")\n",
        "    print(pd)\n",
        "    return(str(pd))\n",
        "    pass\n",
        "  def VIR(self, vir):\n",
        "    print(\"virgula \")\n",
        "    print(vir)\n",
        "    return Discard\n",
        "    # esta dá return de DISCARD | equivalente a nao meter como terminal na gramatica\n",
        "\n",
        "\n",
        "p = Lark(grammar)   #não muito bem\n",
        "#p = Lark(grammar1)  #recomendada\n",
        "#p = Lark(grammar2)  #incorreta\n",
        "#p = Lark(grammar3)  #incorreta\n",
        "#p = Lark(grammar4)   #aceitável\n",
        "\n",
        "while 1:\n",
        "  frase = input()\n",
        "  tree = p.parse(frase)\n",
        "  print(tree.pretty())\n",
        "  #for elem in tree.children:\n",
        "  #  print(elem)\n",
        "\n",
        "  data = ExemploTransformer().transform(tree) # chamar o transformer para obter\n",
        "  print(data)\n"
      ],
      "metadata": {
        "id": "O2r-Md3eA3lP",
        "colab": {
          "base_uri": "https://localhost:8080/",
          "height": 956
        },
        "outputId": "b8a0b5ae-f581-4b23-e539-7117e8daecae"
      },
      "execution_count": 27,
      "outputs": [
        {
          "output_type": "stream",
          "name": "stdout",
          "text": [
            "Looking in indexes: https://pypi.org/simple, https://us-python.pkg.dev/colab-wheels/public/simple/\n",
            "Requirement already satisfied: lark in /usr/local/lib/python3.8/dist-packages (1.1.5)\n",
            "[8,8,9]\n",
            "start\n",
            "  [\n",
            "  elemento\n",
            "    8\n",
            "    ,\n",
            "    8\n",
            "    ,\n",
            "    9\n",
            "  ]\n",
            "\n",
            "par esq \n",
            "[\n",
            "8\n",
            "numero\n",
            "virgula \n",
            ",\n",
            "8\n",
            "numero\n",
            "virgula \n",
            ",\n",
            "9\n",
            "numero\n",
            "elemento\n",
            "[8, 8, 9]\n",
            "O somatório é 25\n",
            "O máximo é 9\n",
            "par dir\n",
            "]\n",
            "start\n",
            "None\n"
          ]
        },
        {
          "output_type": "error",
          "ename": "KeyboardInterrupt",
          "evalue": "ignored",
          "traceback": [
            "\u001b[0;31m---------------------------------------------------------------------------\u001b[0m",
            "\u001b[0;31mKeyboardInterrupt\u001b[0m                         Traceback (most recent call last)",
            "\u001b[0;32m<ipython-input-27-f885747d403c>\u001b[0m in \u001b[0;36m<module>\u001b[0;34m\u001b[0m\n\u001b[1;32m    126\u001b[0m \u001b[0;34m\u001b[0m\u001b[0m\n\u001b[1;32m    127\u001b[0m \u001b[0;32mwhile\u001b[0m \u001b[0;36m1\u001b[0m\u001b[0;34m:\u001b[0m\u001b[0;34m\u001b[0m\u001b[0;34m\u001b[0m\u001b[0m\n\u001b[0;32m--> 128\u001b[0;31m   \u001b[0mfrase\u001b[0m \u001b[0;34m=\u001b[0m \u001b[0minput\u001b[0m\u001b[0;34m(\u001b[0m\u001b[0;34m)\u001b[0m\u001b[0;34m\u001b[0m\u001b[0;34m\u001b[0m\u001b[0m\n\u001b[0m\u001b[1;32m    129\u001b[0m   \u001b[0mtree\u001b[0m \u001b[0;34m=\u001b[0m \u001b[0mp\u001b[0m\u001b[0;34m.\u001b[0m\u001b[0mparse\u001b[0m\u001b[0;34m(\u001b[0m\u001b[0mfrase\u001b[0m\u001b[0;34m)\u001b[0m\u001b[0;34m\u001b[0m\u001b[0;34m\u001b[0m\u001b[0m\n\u001b[1;32m    130\u001b[0m   \u001b[0mprint\u001b[0m\u001b[0;34m(\u001b[0m\u001b[0mtree\u001b[0m\u001b[0;34m.\u001b[0m\u001b[0mpretty\u001b[0m\u001b[0;34m(\u001b[0m\u001b[0;34m)\u001b[0m\u001b[0;34m)\u001b[0m\u001b[0;34m\u001b[0m\u001b[0;34m\u001b[0m\u001b[0m\n",
            "\u001b[0;32m/usr/local/lib/python3.8/dist-packages/ipykernel/kernelbase.py\u001b[0m in \u001b[0;36mraw_input\u001b[0;34m(self, prompt)\u001b[0m\n\u001b[1;32m    858\u001b[0m                 \u001b[0;34m\"raw_input was called, but this frontend does not support input requests.\"\u001b[0m\u001b[0;34m\u001b[0m\u001b[0;34m\u001b[0m\u001b[0m\n\u001b[1;32m    859\u001b[0m             )\n\u001b[0;32m--> 860\u001b[0;31m         return self._input_request(str(prompt),\n\u001b[0m\u001b[1;32m    861\u001b[0m             \u001b[0mself\u001b[0m\u001b[0;34m.\u001b[0m\u001b[0m_parent_ident\u001b[0m\u001b[0;34m,\u001b[0m\u001b[0;34m\u001b[0m\u001b[0;34m\u001b[0m\u001b[0m\n\u001b[1;32m    862\u001b[0m             \u001b[0mself\u001b[0m\u001b[0;34m.\u001b[0m\u001b[0m_parent_header\u001b[0m\u001b[0;34m,\u001b[0m\u001b[0;34m\u001b[0m\u001b[0;34m\u001b[0m\u001b[0m\n",
            "\u001b[0;32m/usr/local/lib/python3.8/dist-packages/ipykernel/kernelbase.py\u001b[0m in \u001b[0;36m_input_request\u001b[0;34m(self, prompt, ident, parent, password)\u001b[0m\n\u001b[1;32m    902\u001b[0m             \u001b[0;32mexcept\u001b[0m \u001b[0mKeyboardInterrupt\u001b[0m\u001b[0;34m:\u001b[0m\u001b[0;34m\u001b[0m\u001b[0;34m\u001b[0m\u001b[0m\n\u001b[1;32m    903\u001b[0m                 \u001b[0;31m# re-raise KeyboardInterrupt, to truncate traceback\u001b[0m\u001b[0;34m\u001b[0m\u001b[0;34m\u001b[0m\u001b[0;34m\u001b[0m\u001b[0m\n\u001b[0;32m--> 904\u001b[0;31m                 \u001b[0;32mraise\u001b[0m \u001b[0mKeyboardInterrupt\u001b[0m\u001b[0;34m(\u001b[0m\u001b[0;34m\"Interrupted by user\"\u001b[0m\u001b[0;34m)\u001b[0m \u001b[0;32mfrom\u001b[0m \u001b[0;32mNone\u001b[0m\u001b[0;34m\u001b[0m\u001b[0;34m\u001b[0m\u001b[0m\n\u001b[0m\u001b[1;32m    905\u001b[0m             \u001b[0;32mexcept\u001b[0m \u001b[0mException\u001b[0m \u001b[0;32mas\u001b[0m \u001b[0me\u001b[0m\u001b[0;34m:\u001b[0m\u001b[0;34m\u001b[0m\u001b[0;34m\u001b[0m\u001b[0m\n\u001b[1;32m    906\u001b[0m                 \u001b[0mself\u001b[0m\u001b[0;34m.\u001b[0m\u001b[0mlog\u001b[0m\u001b[0;34m.\u001b[0m\u001b[0mwarning\u001b[0m\u001b[0;34m(\u001b[0m\u001b[0;34m\"Invalid Message:\"\u001b[0m\u001b[0;34m,\u001b[0m \u001b[0mexc_info\u001b[0m\u001b[0;34m=\u001b[0m\u001b[0;32mTrue\u001b[0m\u001b[0;34m)\u001b[0m\u001b[0;34m\u001b[0m\u001b[0;34m\u001b[0m\u001b[0m\n",
            "\u001b[0;31mKeyboardInterrupt\u001b[0m: Interrupted by user"
          ]
        }
      ]
    },
    {
      "cell_type": "markdown",
      "source": [
        "####Exercício 2\n",
        "Retome uma das GIC escrita em extended-BNF para definir uma linguagem que permita escrever uma lista possívelmente vazia de números inteiros separados por vírgulas,\n",
        "mas agora use o respetivo Transformer e escreva funções para visitar os nodos da árvore de parsing e escrever o conteúdo de cada uma.\n"
      ],
      "metadata": {
        "id": "Alc40If0_eHK"
      }
    },
    {
      "cell_type": "code",
      "source": [
        "!pip install lark\n",
        "from lark import Lark\n",
        "from lark.tree import pydot__tree_to_png\n",
        "from lark import Transformer\n",
        "from lark import Discard\n",
        "\n",
        "class MyTransformer(Transformer):\n",
        "    def start(self, items):\n",
        "        output={}\n",
        "        #output[\"elementos\"] = items[1]\n",
        "        #soma = sum(items[1])\n",
        "        #output[\"soma\"] = soma\n",
        "        print(\"raiz\")\n",
        "        return (output)\n",
        "\n",
        "    def elemento(self, elemento):\n",
        "        print(elemento)\n",
        "        #r = list(filter(lambda x: x!=',', elemento))\n",
        "        #return r\n",
        "\n",
        "    def VIR(self,op):\n",
        "        print(str(op))\n",
        "        #return Discard\n",
        "\n",
        "    def NUMERO(self,numero):\n",
        "        print(str(numero))\n",
        "\n",
        "    def PE(self,pe):\n",
        "        print(str(pe))\n",
        "\n",
        "    def PD(self,pd):\n",
        "        print(str(pd))\n",
        "\n",
        "## Primeiro precisamos da GIC\n",
        "grammar = '''\n",
        "start: PE elemento* PD\n",
        "elemento : primeiro resto \n",
        "primeiro : NUMERO\n",
        "resto : (VIR NUMERO)*\n",
        "NUMERO:\"0\"..\"9\"+\n",
        "PE:\"[\"\n",
        "PD:\"]\"\n",
        "VIR:\",\"\n",
        "\n",
        "%import common.WS\n",
        "%ignore WS\n",
        "'''\n",
        "\n",
        "frase = \"[1,2,3]\"\n",
        "p = Lark(grammar)\n",
        "\n",
        "parse_tree = p.parse(frase)\n",
        "print(parse_tree.pretty())\n",
        "\n",
        "data = MyTransformer().transform(parse_tree)\n",
        "print(data)\n"
      ],
      "metadata": {
        "id": "f8yz_AY8T4v2",
        "colab": {
          "base_uri": "https://localhost:8080/"
        },
        "outputId": "f15451c9-19c5-4c70-c0bf-d0ee3b6e6c0a"
      },
      "execution_count": 11,
      "outputs": [
        {
          "output_type": "stream",
          "name": "stdout",
          "text": [
            "Looking in indexes: https://pypi.org/simple, https://us-python.pkg.dev/colab-wheels/public/simple/\n",
            "Requirement already satisfied: lark in /usr/local/lib/python3.8/dist-packages (1.1.5)\n",
            "start\n",
            "  [\n",
            "  elemento\n",
            "    primeiro\t1\n",
            "    resto\n",
            "      ,\n",
            "      2\n",
            "      ,\n",
            "      3\n",
            "  ]\n",
            "\n",
            "[\n",
            "1\n",
            ",\n",
            "2\n",
            ",\n",
            "3\n",
            "[Tree(Token('RULE', 'primeiro'), [None]), Tree(Token('RULE', 'resto'), [None, None, None, None])]\n",
            "]\n",
            "raiz\n",
            "{}\n"
          ]
        }
      ]
    },
    {
      "cell_type": "markdown",
      "source": [
        "#### Exercício 3\n",
        "\n",
        "\n",
        "Desenvolva uma GIC para definir uma linguagem que permita escrever listas\n",
        "mistas de números e palavras, de tal forma que as 3 frases abaixo sejam frases\n",
        "válidas dessa linguagem:\n",
        "\n",
        "LISTA 1 .\n",
        "\n",
        "Lista aaa .\n",
        "\n",
        "Lista 1, 2, agora, 3, 4, fim, 7, 8.\n",
        "\n",
        "Resolva as seguintes alíneas recorrendo ao uso de Transformer :\n",
        "\n",
        "(a) Calcule, retorne e imprima quantos elementos existem numa lista.\n",
        "\n",
        "(b) Identifique, retorne e imprima o elemento que mais se repete numa lista.\n",
        "\n",
        "(c) Calcule, retorne e imprima a soma de todos os números que se encontrem entre as palavras\n",
        "agora e fim de uma lista.\n",
        "\n",
        "(d) Verifique se uma lista é válida de acordo com os seguintes parâmetros :\n",
        "\n",
        "- Caso a palavra \"agora\" ocorra então a palavra \"fim\" também tem de aparecer posteriormente na lista e o contrário também.\n",
        "- Entre \"agora\" e \"fim\" tem de aparecer pelo menos um número.\n"
      ],
      "metadata": {
        "id": "Is0lNlERDGJL"
      }
    }
  ]
}